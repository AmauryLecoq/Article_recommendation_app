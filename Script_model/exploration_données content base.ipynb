{
 "cells": [
  {
   "cell_type": "markdown",
   "id": "43fcb384-ce6a-49d5-8b4a-9e58577067ce",
   "metadata": {},
   "source": [
    "# Content Based Filtering : Revue des données\n",
    "\n",
    "Il s'agit ici d'un préambule à l'établissement du script d'entrainement et de prédiction de recommendation d'articles. Ce notebook comprends une revue des données fournies dans le cadre du projet, de l'utilisation des coefficients de similarité entre article de sklearn"
   ]
  },
  {
   "cell_type": "code",
   "execution_count": 1,
   "id": "733a3862-f17a-46d4-b94d-930547e84af5",
   "metadata": {},
   "outputs": [],
   "source": [
    "# Import Package nécessaire\n",
    "import numpy as np\n",
    "import pandas as pd\n",
    "import matplotlib.pyplot as plt\n",
    "import seaborn as sns\n",
    "\n",
    "import os\n",
    "\n",
    "import sklearn\n",
    "\n",
    "import math\n",
    "\n",
    "from sklearn.metrics.pairwise import cosine_similarity\n",
    "\n",
    "from sklearn.model_selection import train_test_split\n",
    "\n",
    "from operator import itemgetter\n"
   ]
  },
  {
   "cell_type": "code",
   "execution_count": 2,
   "id": "1e68034e-ee31-4f85-9ddc-0103e3d00213",
   "metadata": {},
   "outputs": [
    {
     "name": "stdout",
     "output_type": "stream",
     "text": [
      "Chargement des métadonnées des articles...\n"
     ]
    },
    {
     "data": {
      "text/html": [
       "<div>\n",
       "<style scoped>\n",
       "    .dataframe tbody tr th:only-of-type {\n",
       "        vertical-align: middle;\n",
       "    }\n",
       "\n",
       "    .dataframe tbody tr th {\n",
       "        vertical-align: top;\n",
       "    }\n",
       "\n",
       "    .dataframe thead th {\n",
       "        text-align: right;\n",
       "    }\n",
       "</style>\n",
       "<table border=\"1\" class=\"dataframe\">\n",
       "  <thead>\n",
       "    <tr style=\"text-align: right;\">\n",
       "      <th></th>\n",
       "      <th>article_id</th>\n",
       "      <th>category_id</th>\n",
       "      <th>created_at_ts</th>\n",
       "      <th>publisher_id</th>\n",
       "      <th>words_count</th>\n",
       "    </tr>\n",
       "  </thead>\n",
       "  <tbody>\n",
       "    <tr>\n",
       "      <th>0</th>\n",
       "      <td>0</td>\n",
       "      <td>0</td>\n",
       "      <td>1513144419000</td>\n",
       "      <td>0</td>\n",
       "      <td>168</td>\n",
       "    </tr>\n",
       "    <tr>\n",
       "      <th>1</th>\n",
       "      <td>1</td>\n",
       "      <td>1</td>\n",
       "      <td>1405341936000</td>\n",
       "      <td>0</td>\n",
       "      <td>189</td>\n",
       "    </tr>\n",
       "    <tr>\n",
       "      <th>2</th>\n",
       "      <td>2</td>\n",
       "      <td>1</td>\n",
       "      <td>1408667706000</td>\n",
       "      <td>0</td>\n",
       "      <td>250</td>\n",
       "    </tr>\n",
       "    <tr>\n",
       "      <th>3</th>\n",
       "      <td>3</td>\n",
       "      <td>1</td>\n",
       "      <td>1408468313000</td>\n",
       "      <td>0</td>\n",
       "      <td>230</td>\n",
       "    </tr>\n",
       "    <tr>\n",
       "      <th>4</th>\n",
       "      <td>4</td>\n",
       "      <td>1</td>\n",
       "      <td>1407071171000</td>\n",
       "      <td>0</td>\n",
       "      <td>162</td>\n",
       "    </tr>\n",
       "  </tbody>\n",
       "</table>\n",
       "</div>"
      ],
      "text/plain": [
       "   article_id  category_id  created_at_ts  publisher_id  words_count\n",
       "0           0            0  1513144419000             0          168\n",
       "1           1            1  1405341936000             0          189\n",
       "2           2            1  1408667706000             0          250\n",
       "3           3            1  1408468313000             0          230\n",
       "4           4            1  1407071171000             0          162"
      ]
     },
     "execution_count": 2,
     "metadata": {},
     "output_type": "execute_result"
    }
   ],
   "source": [
    "print(\"Chargement des métadonnées des articles...\")\n",
    "meta_df= pd.read_csv(\"./news-portal-user-interactions-by-globocom/articles_metadata.csv\")\n",
    "meta_df.head()"
   ]
  },
  {
   "cell_type": "markdown",
   "id": "a8cd2f08-93a0-4b7f-a4ac-f269d00f14cc",
   "metadata": {},
   "source": [
    "Depuis le site https://www.kaggle.com/datasets/gspmoreira/news-portal-user-interactions-by-globocom?select=articles_metadata.csv, les variables représentent:\n",
    "- article_id = The article id\n",
    "- category_id = The category id of the article\n",
    "- created_at_ts = Timestamp of the article published date\n",
    "- publisher_id = Id of the publisher of the article\n",
    "- words_count = # of words in the article"
   ]
  },
  {
   "cell_type": "code",
   "execution_count": 3,
   "id": "51e31fa0-5333-4796-8f4d-38e45d26aab6",
   "metadata": {},
   "outputs": [
    {
     "name": "stdout",
     "output_type": "stream",
     "text": [
      "Dimensions du DataFrame...\n"
     ]
    },
    {
     "data": {
      "text/plain": [
       "(364047, 5)"
      ]
     },
     "execution_count": 3,
     "metadata": {},
     "output_type": "execute_result"
    }
   ],
   "source": [
    "print(\"Dimensions du DataFrame...\")\n",
    "meta_df.shape"
   ]
  },
  {
   "cell_type": "code",
   "execution_count": 4,
   "id": "5a15345a-a2c7-4d00-92fa-767cedd39b28",
   "metadata": {},
   "outputs": [
    {
     "name": "stdout",
     "output_type": "stream",
     "text": [
      "Chargement du fichier d'exemple des clicks...\n"
     ]
    },
    {
     "data": {
      "text/html": [
       "<div>\n",
       "<style scoped>\n",
       "    .dataframe tbody tr th:only-of-type {\n",
       "        vertical-align: middle;\n",
       "    }\n",
       "\n",
       "    .dataframe tbody tr th {\n",
       "        vertical-align: top;\n",
       "    }\n",
       "\n",
       "    .dataframe thead th {\n",
       "        text-align: right;\n",
       "    }\n",
       "</style>\n",
       "<table border=\"1\" class=\"dataframe\">\n",
       "  <thead>\n",
       "    <tr style=\"text-align: right;\">\n",
       "      <th></th>\n",
       "      <th>user_id</th>\n",
       "      <th>session_id</th>\n",
       "      <th>session_start</th>\n",
       "      <th>session_size</th>\n",
       "      <th>click_article_id</th>\n",
       "      <th>click_timestamp</th>\n",
       "      <th>click_environment</th>\n",
       "      <th>click_deviceGroup</th>\n",
       "      <th>click_os</th>\n",
       "      <th>click_country</th>\n",
       "      <th>click_region</th>\n",
       "      <th>click_referrer_type</th>\n",
       "    </tr>\n",
       "  </thead>\n",
       "  <tbody>\n",
       "    <tr>\n",
       "      <th>0</th>\n",
       "      <td>0</td>\n",
       "      <td>1506825423271737</td>\n",
       "      <td>1506825423000</td>\n",
       "      <td>2</td>\n",
       "      <td>157541</td>\n",
       "      <td>1506826828020</td>\n",
       "      <td>4</td>\n",
       "      <td>3</td>\n",
       "      <td>20</td>\n",
       "      <td>1</td>\n",
       "      <td>20</td>\n",
       "      <td>2</td>\n",
       "    </tr>\n",
       "    <tr>\n",
       "      <th>1</th>\n",
       "      <td>0</td>\n",
       "      <td>1506825423271737</td>\n",
       "      <td>1506825423000</td>\n",
       "      <td>2</td>\n",
       "      <td>68866</td>\n",
       "      <td>1506826858020</td>\n",
       "      <td>4</td>\n",
       "      <td>3</td>\n",
       "      <td>20</td>\n",
       "      <td>1</td>\n",
       "      <td>20</td>\n",
       "      <td>2</td>\n",
       "    </tr>\n",
       "    <tr>\n",
       "      <th>2</th>\n",
       "      <td>1</td>\n",
       "      <td>1506825426267738</td>\n",
       "      <td>1506825426000</td>\n",
       "      <td>2</td>\n",
       "      <td>235840</td>\n",
       "      <td>1506827017951</td>\n",
       "      <td>4</td>\n",
       "      <td>1</td>\n",
       "      <td>17</td>\n",
       "      <td>1</td>\n",
       "      <td>16</td>\n",
       "      <td>2</td>\n",
       "    </tr>\n",
       "    <tr>\n",
       "      <th>3</th>\n",
       "      <td>1</td>\n",
       "      <td>1506825426267738</td>\n",
       "      <td>1506825426000</td>\n",
       "      <td>2</td>\n",
       "      <td>96663</td>\n",
       "      <td>1506827047951</td>\n",
       "      <td>4</td>\n",
       "      <td>1</td>\n",
       "      <td>17</td>\n",
       "      <td>1</td>\n",
       "      <td>16</td>\n",
       "      <td>2</td>\n",
       "    </tr>\n",
       "    <tr>\n",
       "      <th>4</th>\n",
       "      <td>2</td>\n",
       "      <td>1506825435299739</td>\n",
       "      <td>1506825435000</td>\n",
       "      <td>2</td>\n",
       "      <td>119592</td>\n",
       "      <td>1506827090575</td>\n",
       "      <td>4</td>\n",
       "      <td>1</td>\n",
       "      <td>17</td>\n",
       "      <td>1</td>\n",
       "      <td>24</td>\n",
       "      <td>2</td>\n",
       "    </tr>\n",
       "  </tbody>\n",
       "</table>\n",
       "</div>"
      ],
      "text/plain": [
       "   user_id        session_id  session_start  session_size  click_article_id  \\\n",
       "0        0  1506825423271737  1506825423000             2            157541   \n",
       "1        0  1506825423271737  1506825423000             2             68866   \n",
       "2        1  1506825426267738  1506825426000             2            235840   \n",
       "3        1  1506825426267738  1506825426000             2             96663   \n",
       "4        2  1506825435299739  1506825435000             2            119592   \n",
       "\n",
       "   click_timestamp  click_environment  click_deviceGroup  click_os  \\\n",
       "0    1506826828020                  4                  3        20   \n",
       "1    1506826858020                  4                  3        20   \n",
       "2    1506827017951                  4                  1        17   \n",
       "3    1506827047951                  4                  1        17   \n",
       "4    1506827090575                  4                  1        17   \n",
       "\n",
       "   click_country  click_region  click_referrer_type  \n",
       "0              1            20                    2  \n",
       "1              1            20                    2  \n",
       "2              1            16                    2  \n",
       "3              1            16                    2  \n",
       "4              1            24                    2  "
      ]
     },
     "execution_count": 4,
     "metadata": {},
     "output_type": "execute_result"
    }
   ],
   "source": [
    "print(\"Chargement du fichier d'exemple des clicks...\")\n",
    "exemple_click = pd.read_csv(\"./news-portal-user-interactions-by-globocom/clicks_sample.csv\")\n",
    "exemple_click.head()"
   ]
  },
  {
   "cell_type": "markdown",
   "id": "205a6fd6-3b95-4e19-92ee-7ae819956835",
   "metadata": {},
   "source": [
    "Depuis le site https://www.kaggle.com/datasets/gspmoreira/news-portal-user-interactions-by-globocom?select=articles_metadata.csv, les variables représentent:\n",
    "- user_id = The user id\n",
    "- session_id = The session id\n",
    "- session_start = Timestamp of the first interaction of the session\n",
    "- session_size = Number of interactions of the session\n",
    "- click_article_id = Article id interacted by the user\n",
    "- click_timestamp = Timestamp of the interaction\n",
    "- click_environment = Id of the Environment: 1 - Facebook Instant Article, 2 - Mobile App, 3 - AMP (Accelerated Mobile Pages), 4 - Web\n",
    "- click_deviceGroup = Id of the Device Type: 1 - Tablet, 2 - TV, 3 - Empty, 4 - Mobile, 5 - Desktop\n",
    "- click_os = Id of the Operational System: 1 - Other, 2 - iOS, 3 - Android, 4 - Windows Phone, 5 - Windows Mobile, 6 - Windows, 7 - \n",
    "- click_country = Id of the country\n",
    "- click_region = n/a\n",
    "- click_referrer_type = n/a\n",
    "\n",
    "Il semble que article_id et click_article_id soient identiques.\n",
    "\n",
    "Nous avons 385 fichiers de clics (1 par heure) inclus dans le dossier \"./news-portal-user-interactions-by-globocom/clicks/\" allant de clicks_hour_000 à clicks_hour_384\n",
    "\n",
    "Il y a un également un fichier pickle qui contient les vecteurs d'embeddings du contenu des articles."
   ]
  },
  {
   "cell_type": "code",
   "execution_count": 5,
   "id": "2b581e20-1cd9-4a30-9823-8cd2991d8da9",
   "metadata": {},
   "outputs": [
    {
     "name": "stdout",
     "output_type": "stream",
     "text": [
      "Chargement du fichier d'embedding des articles\n"
     ]
    },
    {
     "data": {
      "text/plain": [
       "array([[-0.16118301, -0.95723313, -0.13794445, ..., -0.231686  ,\n",
       "         0.5974159 ,  0.40962312],\n",
       "       [-0.52321565, -0.974058  ,  0.73860806, ...,  0.18282819,\n",
       "         0.39708954, -0.83436364],\n",
       "       [-0.61961854, -0.9729604 , -0.20736018, ..., -0.44758022,\n",
       "         0.8059317 , -0.28528407],\n",
       "       ...,\n",
       "       [-0.25139043, -0.9762427 ,  0.58609664, ..., -0.14372464,\n",
       "         0.06809307, -0.7050104 ],\n",
       "       [ 0.22434181, -0.92328775, -0.38174152, ...,  0.6871319 ,\n",
       "        -0.5315117 ,  0.01072566],\n",
       "       [-0.25713393, -0.9946313 ,  0.9837918 , ...,  0.98387307,\n",
       "        -0.8381829 , -0.1792827 ]], dtype=float32)"
      ]
     },
     "execution_count": 5,
     "metadata": {},
     "output_type": "execute_result"
    }
   ],
   "source": [
    "print(\"Chargement du fichier d'embedding des articles\")\n",
    "pickle = pd.read_pickle('./news-portal-user-interactions-by-globocom/articles_embeddings.pickle')\n",
    "pickle"
   ]
  },
  {
   "cell_type": "code",
   "execution_count": 6,
   "id": "75f43f8b-1fa5-4eb2-b312-6742d1e69005",
   "metadata": {},
   "outputs": [
    {
     "name": "stdout",
     "output_type": "stream",
     "text": [
      "Dimensions de la matrice d'embeddings...\n"
     ]
    },
    {
     "data": {
      "text/plain": [
       "(364047, 250)"
      ]
     },
     "execution_count": 6,
     "metadata": {},
     "output_type": "execute_result"
    }
   ],
   "source": [
    "print(\"Dimensions de la matrice d'embeddings...\")\n",
    "pickle.shape"
   ]
  },
  {
   "cell_type": "markdown",
   "id": "48a58eae-4bec-4d3d-8011-2661a8a3fd4d",
   "metadata": {},
   "source": [
    "il y a donc bien 364047 articles pris en compte dans les fichiers\n",
    "\n",
    "Il faudrait regrouper les fichiers de clic pour que ce soit plus facile à utiliser"
   ]
  },
  {
   "cell_type": "code",
   "execution_count": 7,
   "id": "5f1be538-1081-460a-9dbd-302ff2dc04fb",
   "metadata": {},
   "outputs": [
    {
     "name": "stdout",
     "output_type": "stream",
     "text": [
      "Création d'un fichier globale des actions utilisateurs et chargement du fichier....\n"
     ]
    },
    {
     "data": {
      "text/html": [
       "<div>\n",
       "<style scoped>\n",
       "    .dataframe tbody tr th:only-of-type {\n",
       "        vertical-align: middle;\n",
       "    }\n",
       "\n",
       "    .dataframe tbody tr th {\n",
       "        vertical-align: top;\n",
       "    }\n",
       "\n",
       "    .dataframe thead th {\n",
       "        text-align: right;\n",
       "    }\n",
       "</style>\n",
       "<table border=\"1\" class=\"dataframe\">\n",
       "  <thead>\n",
       "    <tr style=\"text-align: right;\">\n",
       "      <th></th>\n",
       "      <th>Unnamed: 0</th>\n",
       "      <th>user_id</th>\n",
       "      <th>session_id</th>\n",
       "      <th>session_start</th>\n",
       "      <th>session_size</th>\n",
       "      <th>click_article_id</th>\n",
       "      <th>click_timestamp</th>\n",
       "      <th>click_environment</th>\n",
       "      <th>click_deviceGroup</th>\n",
       "      <th>click_os</th>\n",
       "      <th>click_country</th>\n",
       "      <th>click_region</th>\n",
       "      <th>click_referrer_type</th>\n",
       "    </tr>\n",
       "  </thead>\n",
       "  <tbody>\n",
       "    <tr>\n",
       "      <th>0</th>\n",
       "      <td>0</td>\n",
       "      <td>0</td>\n",
       "      <td>1506825423271737</td>\n",
       "      <td>1506825423000</td>\n",
       "      <td>2</td>\n",
       "      <td>157541</td>\n",
       "      <td>1506826828020</td>\n",
       "      <td>4</td>\n",
       "      <td>3</td>\n",
       "      <td>20</td>\n",
       "      <td>1</td>\n",
       "      <td>20</td>\n",
       "      <td>2</td>\n",
       "    </tr>\n",
       "    <tr>\n",
       "      <th>1</th>\n",
       "      <td>1</td>\n",
       "      <td>0</td>\n",
       "      <td>1506825423271737</td>\n",
       "      <td>1506825423000</td>\n",
       "      <td>2</td>\n",
       "      <td>68866</td>\n",
       "      <td>1506826858020</td>\n",
       "      <td>4</td>\n",
       "      <td>3</td>\n",
       "      <td>20</td>\n",
       "      <td>1</td>\n",
       "      <td>20</td>\n",
       "      <td>2</td>\n",
       "    </tr>\n",
       "    <tr>\n",
       "      <th>2</th>\n",
       "      <td>2</td>\n",
       "      <td>1</td>\n",
       "      <td>1506825426267738</td>\n",
       "      <td>1506825426000</td>\n",
       "      <td>2</td>\n",
       "      <td>235840</td>\n",
       "      <td>1506827017951</td>\n",
       "      <td>4</td>\n",
       "      <td>1</td>\n",
       "      <td>17</td>\n",
       "      <td>1</td>\n",
       "      <td>16</td>\n",
       "      <td>2</td>\n",
       "    </tr>\n",
       "    <tr>\n",
       "      <th>3</th>\n",
       "      <td>3</td>\n",
       "      <td>1</td>\n",
       "      <td>1506825426267738</td>\n",
       "      <td>1506825426000</td>\n",
       "      <td>2</td>\n",
       "      <td>96663</td>\n",
       "      <td>1506827047951</td>\n",
       "      <td>4</td>\n",
       "      <td>1</td>\n",
       "      <td>17</td>\n",
       "      <td>1</td>\n",
       "      <td>16</td>\n",
       "      <td>2</td>\n",
       "    </tr>\n",
       "    <tr>\n",
       "      <th>4</th>\n",
       "      <td>4</td>\n",
       "      <td>2</td>\n",
       "      <td>1506825435299739</td>\n",
       "      <td>1506825435000</td>\n",
       "      <td>2</td>\n",
       "      <td>119592</td>\n",
       "      <td>1506827090575</td>\n",
       "      <td>4</td>\n",
       "      <td>1</td>\n",
       "      <td>17</td>\n",
       "      <td>1</td>\n",
       "      <td>24</td>\n",
       "      <td>2</td>\n",
       "    </tr>\n",
       "  </tbody>\n",
       "</table>\n",
       "</div>"
      ],
      "text/plain": [
       "   Unnamed: 0  user_id        session_id  session_start  session_size  \\\n",
       "0           0        0  1506825423271737  1506825423000             2   \n",
       "1           1        0  1506825423271737  1506825423000             2   \n",
       "2           2        1  1506825426267738  1506825426000             2   \n",
       "3           3        1  1506825426267738  1506825426000             2   \n",
       "4           4        2  1506825435299739  1506825435000             2   \n",
       "\n",
       "   click_article_id  click_timestamp  click_environment  click_deviceGroup  \\\n",
       "0            157541    1506826828020                  4                  3   \n",
       "1             68866    1506826858020                  4                  3   \n",
       "2            235840    1506827017951                  4                  1   \n",
       "3             96663    1506827047951                  4                  1   \n",
       "4            119592    1506827090575                  4                  1   \n",
       "\n",
       "   click_os  click_country  click_region  click_referrer_type  \n",
       "0        20              1            20                    2  \n",
       "1        20              1            20                    2  \n",
       "2        17              1            16                    2  \n",
       "3        17              1            16                    2  \n",
       "4        17              1            24                    2  "
      ]
     },
     "execution_count": 7,
     "metadata": {},
     "output_type": "execute_result"
    }
   ],
   "source": [
    "print(\"Création d'un fichier globale des actions utilisateurs et chargement du fichier....\")\n",
    "if not os.path.exists('./news-portal-user-interactions-by-globocom/clicks_sum.csv'):\n",
    "    file_dir = \"./news-portal-user-interactions-by-globocom/clicks\"\n",
    "    file_path_list = sorted(\n",
    "        [\n",
    "            os.path.join(file_dir, file_name) \n",
    "            for file_name in os.listdir(file_dir)\n",
    "            if file_name.endswith(\".csv\")\n",
    "        ]\n",
    "    )\n",
    "    print(f\"Nombre de fichiers .csv retenus: {len(file_path_list)}\")\n",
    "    \n",
    "    file_df_list = []\n",
    "    \n",
    "    for file_path in file_path_list:\n",
    "        df = pd.read_csv(file_path)\n",
    "        file_df_list.append(df)\n",
    "    \n",
    "    clicks_sum = pd.concat(file_df_list, ignore_index=True)\n",
    "    clicks_sum.to_csv('./news-portal-user-interactions-by-globocom/clicks_sum.csv')\n",
    "else:\n",
    "    clicks_sum= pd.read_csv('./news-portal-user-interactions-by-globocom/clicks_sum.csv')\n",
    "    \n",
    "clicks_sum.head()"
   ]
  },
  {
   "cell_type": "code",
   "execution_count": 8,
   "id": "f80b019c-42cf-4640-a1d5-20793224c99f",
   "metadata": {},
   "outputs": [
    {
     "name": "stdout",
     "output_type": "stream",
     "text": [
      "Dimensions du fichier globale des actions utilisateurs...\n"
     ]
    },
    {
     "data": {
      "text/plain": [
       "(2988181, 13)"
      ]
     },
     "execution_count": 8,
     "metadata": {},
     "output_type": "execute_result"
    }
   ],
   "source": [
    "print('Dimensions du fichier globale des actions utilisateurs...')\n",
    "clicks_sum.shape"
   ]
  },
  {
   "cell_type": "code",
   "execution_count": 9,
   "id": "d50f554d-7a90-4566-a5dd-210e8d8c08fe",
   "metadata": {},
   "outputs": [
    {
     "name": "stdout",
     "output_type": "stream",
     "text": [
      "Quantité de variables par type dans notre jeu de données clicks_sum:\n",
      "int64    13\n",
      "dtype: int64\n"
     ]
    }
   ],
   "source": [
    "print(f\"Quantité de variables par type dans notre jeu de données clicks_sum:\\n\\\n",
    "{clicks_sum.dtypes.value_counts()}\")"
   ]
  },
  {
   "cell_type": "code",
   "execution_count": 10,
   "id": "49abcd9e-d416-4b1f-9cf2-27f307e003e5",
   "metadata": {},
   "outputs": [
    {
     "name": "stdout",
     "output_type": "stream",
     "text": [
      "Quantité de valeurs manquantes par variable de clicks_sum:\n",
      "Unnamed: 0             0\n",
      "user_id                0\n",
      "session_id             0\n",
      "session_start          0\n",
      "session_size           0\n",
      "click_article_id       0\n",
      "click_timestamp        0\n",
      "click_environment      0\n",
      "click_deviceGroup      0\n",
      "click_os               0\n",
      "click_country          0\n",
      "click_region           0\n",
      "click_referrer_type    0\n",
      "dtype: int64\n"
     ]
    }
   ],
   "source": [
    "print(f\"Quantité de valeurs manquantes par variable de clicks_sum:\\n\\\n",
    "{clicks_sum.isna().sum()}\")"
   ]
  },
  {
   "cell_type": "code",
   "execution_count": 11,
   "id": "ec9f86c6-dee0-4c32-8ef3-e1748fc1d2bc",
   "metadata": {},
   "outputs": [
    {
     "data": {
      "image/png": "[encoded data removed]",
      "text/plain": [
       "<Figure size 1500x800 with 1 Axes>"
      ]
     },
     "metadata": {},
     "output_type": "display_data"
    }
   ],
   "source": [
    "plt.figure(figsize=(15,8))\n",
    "ax = sns.countplot(x='session_size', data=clicks_sum)\n",
    "#Pour rajouter un texte au dessus/à coté des barres de notre diagramme\n",
    "for c in ax.containers:\n",
    "    # calcul du label en % en fonction de la hauteur/largeur\n",
    "    # Rajoute un espace pour les valeurs nulles\n",
    "    labels = [f' {h/clicks_sum.session_size.count()*100:0.1f}%' \n",
    "              if (h := v.get_height()) > 0 else '' for v in c]\n",
    "    \n",
    "    ax.bar_label(c, labels=labels, label_type='edge')\n",
    "\n",
    "plt.title('Répartition des interactions de sessions')\n",
    "plt.xlabel(\"Nombre d'interactions\")\n",
    "plt.ylabel('Qté')\n",
    "plt.show()"
   ]
  },
  {
   "cell_type": "markdown",
   "id": "8b0c138b-7412-4c43-b2c1-a11c37db6d17",
   "metadata": {},
   "source": [
    "## Content Based filtering\n",
    "\n",
    "\n",
    "Nous allons utiliser le principe du cosine similarities en nous basant sur le fichier d'embedding. Cependant, cette information seule ne nous permet de récupérer que les informations de similiraté entre les articles.\n"
   ]
  },
  {
   "cell_type": "code",
   "execution_count": 12,
   "id": "c85521de-3d25-457e-8425-01103f7695a8",
   "metadata": {},
   "outputs": [],
   "source": [
    "\n",
    "def find_top_n_indices(data, top=5):\n",
    "    indexed = enumerate(data)\n",
    "    sorted_data = sorted(indexed, \n",
    "                         key=itemgetter(1), \n",
    "                         reverse=True) \n",
    "    return [d[0] for d in sorted_data[:top]] "
   ]
  },
  {
   "cell_type": "code",
   "execution_count": 13,
   "id": "d4f851f6-ab27-4fb6-946a-9e7df7f78087",
   "metadata": {},
   "outputs": [],
   "source": [
    "def recommendFromArticle(article_id, top):\n",
    "    score = []\n",
    "    for i in range(0, len(pickle)):\n",
    "        if(article_id != i):\n",
    "            cos_sim = np.dot(pickle[article_id], pickle[i])/(np.linalg.norm(pickle[article_id])*np.linalg.norm(pickle[i]))\n",
    "            score.append(cos_sim)\n",
    "    \n",
    "    _best_scores = find_top_n_indices(score, top)\n",
    "            \n",
    "    return _best_scores"
   ]
  },
  {
   "cell_type": "code",
   "execution_count": 14,
   "id": "ffedc3d3-361d-4622-837e-3e8007e2b92b",
   "metadata": {},
   "outputs": [
    {
     "name": "stdout",
     "output_type": "stream",
     "text": [
      "articles similaire à l'article 157077: [156576, 159580, 158063, 159644, 161399]\n",
      "CPU times: user 1.5 s, sys: 30.6 ms, total: 1.53 s\n",
      "Wall time: 1.54 s\n"
     ]
    }
   ],
   "source": [
    "%%time\n",
    "print(f\"articles similaire à l'article 157077: {recommendFromArticle(157077, 5)}\")"
   ]
  },
  {
   "cell_type": "code",
   "execution_count": 15,
   "id": "9db9a657-5912-4832-9e8d-0255b053eb8c",
   "metadata": {},
   "outputs": [],
   "source": [
    "def recommendFromArticle(article_id, top):\n",
    "    score = []\n",
    "    for i in range(0, len(pickle)):\n",
    "        if(article_id != i):\n",
    "            cos_sim = cosine_similarity(pickle[article_id:article_id+1], pickle[i:i+1])\n",
    "            score.append(cos_sim)\n",
    "    \n",
    "    _best_scores = find_top_n_indices(score, top)\n",
    "            \n",
    "    return _best_scores"
   ]
  },
  {
   "cell_type": "code",
   "execution_count": 16,
   "id": "a763966d-f332-4e40-9a95-26be05728062",
   "metadata": {},
   "outputs": [
    {
     "name": "stdout",
     "output_type": "stream",
     "text": [
      "articles similaire à l'article 157077: [156576, 159580, 158063, 159644, 161399]\n",
      "CPU times: user 22.2 s, sys: 396 ms, total: 22.6 s\n",
      "Wall time: 22.4 s\n"
     ]
    }
   ],
   "source": [
    "%%time\n",
    "print(f\"articles similaire à l'article 157077: {recommendFromArticle(157077, 5)}\")"
   ]
  },
  {
   "cell_type": "markdown",
   "id": "053fb9d7-9c71-437a-ab8f-39b0efaabad3",
   "metadata": {},
   "source": [
    "Il est possible de constater que l'utilisation du modulencosine_similatiry de sklearn prend plus de temps que le calcul pur.\n",
    "\n",
    "Cependant, il nous manque ici le lien avec l'utilisateur. Pour pouvoir lier le contenu des articles avec l'utilisateur, il est utile d'avoir un profil de l'utilisateur pour connaitre ce qu'il préfère lire. Nous allons pour cela utiliser l'interaction de l'utilisateur avec les articles pour connaitre ses goûts."
   ]
  },
  {
   "cell_type": "code",
   "execution_count": 17,
   "id": "87db868c-9881-4c06-9e1b-58bc0e02f2cd",
   "metadata": {},
   "outputs": [
    {
     "name": "stdout",
     "output_type": "stream",
     "text": [
      "Création et chargement d'un fichier regroupant les métadonnées et les interaction utilisateur...\n"
     ]
    },
    {
     "data": {
      "text/html": [
       "<div>\n",
       "<style scoped>\n",
       "    .dataframe tbody tr th:only-of-type {\n",
       "        vertical-align: middle;\n",
       "    }\n",
       "\n",
       "    .dataframe tbody tr th {\n",
       "        vertical-align: top;\n",
       "    }\n",
       "\n",
       "    .dataframe thead th {\n",
       "        text-align: right;\n",
       "    }\n",
       "</style>\n",
       "<table border=\"1\" class=\"dataframe\">\n",
       "  <thead>\n",
       "    <tr style=\"text-align: right;\">\n",
       "      <th></th>\n",
       "      <th>Unnamed: 0</th>\n",
       "      <th>user_id</th>\n",
       "      <th>session_id</th>\n",
       "      <th>session_start</th>\n",
       "      <th>session_size</th>\n",
       "      <th>click_article_id</th>\n",
       "      <th>click_timestamp</th>\n",
       "      <th>click_environment</th>\n",
       "      <th>click_deviceGroup</th>\n",
       "      <th>click_os</th>\n",
       "      <th>click_country</th>\n",
       "      <th>click_region</th>\n",
       "      <th>click_referrer_type</th>\n",
       "      <th>article_id</th>\n",
       "      <th>category_id</th>\n",
       "      <th>created_at_ts</th>\n",
       "      <th>publisher_id</th>\n",
       "      <th>words_count</th>\n",
       "    </tr>\n",
       "  </thead>\n",
       "  <tbody>\n",
       "    <tr>\n",
       "      <th>0</th>\n",
       "      <td>0</td>\n",
       "      <td>0</td>\n",
       "      <td>1506825423271737</td>\n",
       "      <td>1506825423000</td>\n",
       "      <td>2</td>\n",
       "      <td>157541</td>\n",
       "      <td>1506826828020</td>\n",
       "      <td>4</td>\n",
       "      <td>3</td>\n",
       "      <td>20</td>\n",
       "      <td>1</td>\n",
       "      <td>20</td>\n",
       "      <td>2</td>\n",
       "      <td>157541</td>\n",
       "      <td>281</td>\n",
       "      <td>1506800518000</td>\n",
       "      <td>0</td>\n",
       "      <td>280</td>\n",
       "    </tr>\n",
       "    <tr>\n",
       "      <th>1</th>\n",
       "      <td>54</td>\n",
       "      <td>20</td>\n",
       "      <td>1506825727279757</td>\n",
       "      <td>1506825727000</td>\n",
       "      <td>2</td>\n",
       "      <td>157541</td>\n",
       "      <td>1506836548634</td>\n",
       "      <td>4</td>\n",
       "      <td>1</td>\n",
       "      <td>17</td>\n",
       "      <td>1</td>\n",
       "      <td>9</td>\n",
       "      <td>1</td>\n",
       "      <td>157541</td>\n",
       "      <td>281</td>\n",
       "      <td>1506800518000</td>\n",
       "      <td>0</td>\n",
       "      <td>280</td>\n",
       "    </tr>\n",
       "    <tr>\n",
       "      <th>2</th>\n",
       "      <td>115</td>\n",
       "      <td>44</td>\n",
       "      <td>1506826139185781</td>\n",
       "      <td>1506826139000</td>\n",
       "      <td>5</td>\n",
       "      <td>157541</td>\n",
       "      <td>1506857278141</td>\n",
       "      <td>4</td>\n",
       "      <td>1</td>\n",
       "      <td>17</td>\n",
       "      <td>1</td>\n",
       "      <td>12</td>\n",
       "      <td>1</td>\n",
       "      <td>157541</td>\n",
       "      <td>281</td>\n",
       "      <td>1506800518000</td>\n",
       "      <td>0</td>\n",
       "      <td>280</td>\n",
       "    </tr>\n",
       "    <tr>\n",
       "      <th>3</th>\n",
       "      <td>117</td>\n",
       "      <td>45</td>\n",
       "      <td>1506826142324782</td>\n",
       "      <td>1506826142000</td>\n",
       "      <td>2</td>\n",
       "      <td>157541</td>\n",
       "      <td>1506827309970</td>\n",
       "      <td>4</td>\n",
       "      <td>1</td>\n",
       "      <td>17</td>\n",
       "      <td>1</td>\n",
       "      <td>17</td>\n",
       "      <td>1</td>\n",
       "      <td>157541</td>\n",
       "      <td>281</td>\n",
       "      <td>1506800518000</td>\n",
       "      <td>0</td>\n",
       "      <td>280</td>\n",
       "    </tr>\n",
       "    <tr>\n",
       "      <th>4</th>\n",
       "      <td>201</td>\n",
       "      <td>76</td>\n",
       "      <td>1506826463226813</td>\n",
       "      <td>1506826463000</td>\n",
       "      <td>2</td>\n",
       "      <td>157541</td>\n",
       "      <td>1506828823469</td>\n",
       "      <td>4</td>\n",
       "      <td>3</td>\n",
       "      <td>2</td>\n",
       "      <td>1</td>\n",
       "      <td>21</td>\n",
       "      <td>1</td>\n",
       "      <td>157541</td>\n",
       "      <td>281</td>\n",
       "      <td>1506800518000</td>\n",
       "      <td>0</td>\n",
       "      <td>280</td>\n",
       "    </tr>\n",
       "  </tbody>\n",
       "</table>\n",
       "</div>"
      ],
      "text/plain": [
       "   Unnamed: 0  user_id        session_id  session_start  session_size  \\\n",
       "0           0        0  1506825423271737  1506825423000             2   \n",
       "1          54       20  1506825727279757  1506825727000             2   \n",
       "2         115       44  1506826139185781  1506826139000             5   \n",
       "3         117       45  1506826142324782  1506826142000             2   \n",
       "4         201       76  1506826463226813  1506826463000             2   \n",
       "\n",
       "   click_article_id  click_timestamp  click_environment  click_deviceGroup  \\\n",
       "0            157541    1506826828020                  4                  3   \n",
       "1            157541    1506836548634                  4                  1   \n",
       "2            157541    1506857278141                  4                  1   \n",
       "3            157541    1506827309970                  4                  1   \n",
       "4            157541    1506828823469                  4                  3   \n",
       "\n",
       "   click_os  click_country  click_region  click_referrer_type  article_id  \\\n",
       "0        20              1            20                    2      157541   \n",
       "1        17              1             9                    1      157541   \n",
       "2        17              1            12                    1      157541   \n",
       "3        17              1            17                    1      157541   \n",
       "4         2              1            21                    1      157541   \n",
       "\n",
       "   category_id  created_at_ts  publisher_id  words_count  \n",
       "0          281  1506800518000             0          280  \n",
       "1          281  1506800518000             0          280  \n",
       "2          281  1506800518000             0          280  \n",
       "3          281  1506800518000             0          280  \n",
       "4          281  1506800518000             0          280  "
      ]
     },
     "execution_count": 17,
     "metadata": {},
     "output_type": "execute_result"
    }
   ],
   "source": [
    "print(\"Création et chargement d'un fichier regroupant les métadonnées et les interaction utilisateur...\")\n",
    "all_data = clicks_sum.merge(meta_df,\n",
    "                            left_on='click_article_id',\n",
    "                            right_on='article_id')\n",
    "all_data.head()"
   ]
  },
  {
   "cell_type": "markdown",
   "id": "3ab95383-fe93-4ea0-905c-95bc667b2bc5",
   "metadata": {},
   "source": [
    "Ne gardons que les informations pour le moment qui semblent pertinentes:\n",
    "\n",
    "- user_id\n",
    "- session_size\n",
    "- article_id\n",
    "- category_id"
   ]
  },
  {
   "cell_type": "code",
   "execution_count": 18,
   "id": "751cba9f-2216-4df5-b217-d191f0128b07",
   "metadata": {},
   "outputs": [
    {
     "name": "stdout",
     "output_type": "stream",
     "text": [
      "Création d'un filtre sur les données utiles...\n"
     ]
    },
    {
     "data": {
      "text/html": [
       "<div>\n",
       "<style scoped>\n",
       "    .dataframe tbody tr th:only-of-type {\n",
       "        vertical-align: middle;\n",
       "    }\n",
       "\n",
       "    .dataframe tbody tr th {\n",
       "        vertical-align: top;\n",
       "    }\n",
       "\n",
       "    .dataframe thead th {\n",
       "        text-align: right;\n",
       "    }\n",
       "</style>\n",
       "<table border=\"1\" class=\"dataframe\">\n",
       "  <thead>\n",
       "    <tr style=\"text-align: right;\">\n",
       "      <th></th>\n",
       "      <th>user_id</th>\n",
       "      <th>article_id</th>\n",
       "      <th>category_id</th>\n",
       "      <th>session_size</th>\n",
       "    </tr>\n",
       "  </thead>\n",
       "  <tbody>\n",
       "    <tr>\n",
       "      <th>0</th>\n",
       "      <td>0</td>\n",
       "      <td>157541</td>\n",
       "      <td>281</td>\n",
       "      <td>2</td>\n",
       "    </tr>\n",
       "    <tr>\n",
       "      <th>1</th>\n",
       "      <td>20</td>\n",
       "      <td>157541</td>\n",
       "      <td>281</td>\n",
       "      <td>2</td>\n",
       "    </tr>\n",
       "    <tr>\n",
       "      <th>2</th>\n",
       "      <td>44</td>\n",
       "      <td>157541</td>\n",
       "      <td>281</td>\n",
       "      <td>5</td>\n",
       "    </tr>\n",
       "    <tr>\n",
       "      <th>3</th>\n",
       "      <td>45</td>\n",
       "      <td>157541</td>\n",
       "      <td>281</td>\n",
       "      <td>2</td>\n",
       "    </tr>\n",
       "    <tr>\n",
       "      <th>4</th>\n",
       "      <td>76</td>\n",
       "      <td>157541</td>\n",
       "      <td>281</td>\n",
       "      <td>2</td>\n",
       "    </tr>\n",
       "  </tbody>\n",
       "</table>\n",
       "</div>"
      ],
      "text/plain": [
       "   user_id  article_id  category_id  session_size\n",
       "0        0      157541          281             2\n",
       "1       20      157541          281             2\n",
       "2       44      157541          281             5\n",
       "3       45      157541          281             2\n",
       "4       76      157541          281             2"
      ]
     },
     "execution_count": 18,
     "metadata": {},
     "output_type": "execute_result"
    }
   ],
   "source": [
    "print(\"Création d'un filtre sur les données utiles...\")\n",
    "filtered_data = all_data[[\"user_id\", \"article_id\",\"category_id\", \"session_size\"]]\n",
    "filtered_data.head()"
   ]
  },
  {
   "cell_type": "code",
   "execution_count": 19,
   "id": "c875cd4b-58ff-4314-903e-14188cac52ef",
   "metadata": {},
   "outputs": [
    {
     "name": "stdout",
     "output_type": "stream",
     "text": [
      "Dimensions des données filtrées...\n"
     ]
    },
    {
     "data": {
      "text/plain": [
       "(2988181, 4)"
      ]
     },
     "execution_count": 19,
     "metadata": {},
     "output_type": "execute_result"
    }
   ],
   "source": [
    "print(\"Dimensions des données filtrées...\")\n",
    "filtered_data.shape"
   ]
  },
  {
   "cell_type": "markdown",
   "id": "9922c829-81f4-48b6-8d72-226921323eac",
   "metadata": {},
   "source": [
    "Il faut maintenant créer un rating associé aux interactions utilisateurs. Afin que ce rating soit parlant, une fonction log est appliquée"
   ]
  },
  {
   "cell_type": "code",
   "execution_count": 20,
   "id": "124825c6-8be5-418c-90de-77d944530b02",
   "metadata": {},
   "outputs": [],
   "source": [
    "\n",
    "def smooth_user_preference(x):\n",
    "    return math.log(1+x, 2)"
   ]
  },
  {
   "cell_type": "code",
   "execution_count": 21,
   "id": "0be15ed4-1d1b-414b-9d1e-eae1fe338c27",
   "metadata": {},
   "outputs": [
    {
     "name": "stdout",
     "output_type": "stream",
     "text": [
      "Création des données de rating...\n"
     ]
    },
    {
     "data": {
      "text/html": [
       "<div>\n",
       "<style scoped>\n",
       "    .dataframe tbody tr th:only-of-type {\n",
       "        vertical-align: middle;\n",
       "    }\n",
       "\n",
       "    .dataframe tbody tr th {\n",
       "        vertical-align: top;\n",
       "    }\n",
       "\n",
       "    .dataframe thead th {\n",
       "        text-align: right;\n",
       "    }\n",
       "</style>\n",
       "<table border=\"1\" class=\"dataframe\">\n",
       "  <thead>\n",
       "    <tr style=\"text-align: right;\">\n",
       "      <th></th>\n",
       "      <th>user_id</th>\n",
       "      <th>article_id</th>\n",
       "      <th>session_size</th>\n",
       "    </tr>\n",
       "  </thead>\n",
       "  <tbody>\n",
       "    <tr>\n",
       "      <th>0</th>\n",
       "      <td>0</td>\n",
       "      <td>68866</td>\n",
       "      <td>1.584963</td>\n",
       "    </tr>\n",
       "    <tr>\n",
       "      <th>1</th>\n",
       "      <td>0</td>\n",
       "      <td>87205</td>\n",
       "      <td>1.584963</td>\n",
       "    </tr>\n",
       "    <tr>\n",
       "      <th>2</th>\n",
       "      <td>0</td>\n",
       "      <td>87224</td>\n",
       "      <td>1.584963</td>\n",
       "    </tr>\n",
       "    <tr>\n",
       "      <th>3</th>\n",
       "      <td>0</td>\n",
       "      <td>96755</td>\n",
       "      <td>1.584963</td>\n",
       "    </tr>\n",
       "    <tr>\n",
       "      <th>4</th>\n",
       "      <td>0</td>\n",
       "      <td>157541</td>\n",
       "      <td>1.584963</td>\n",
       "    </tr>\n",
       "    <tr>\n",
       "      <th>...</th>\n",
       "      <td>...</td>\n",
       "      <td>...</td>\n",
       "      <td>...</td>\n",
       "    </tr>\n",
       "    <tr>\n",
       "      <th>2950705</th>\n",
       "      <td>322894</td>\n",
       "      <td>168401</td>\n",
       "      <td>1.584963</td>\n",
       "    </tr>\n",
       "    <tr>\n",
       "      <th>2950706</th>\n",
       "      <td>322895</td>\n",
       "      <td>63746</td>\n",
       "      <td>1.584963</td>\n",
       "    </tr>\n",
       "    <tr>\n",
       "      <th>2950707</th>\n",
       "      <td>322895</td>\n",
       "      <td>289197</td>\n",
       "      <td>1.584963</td>\n",
       "    </tr>\n",
       "    <tr>\n",
       "      <th>2950708</th>\n",
       "      <td>322896</td>\n",
       "      <td>30760</td>\n",
       "      <td>1.584963</td>\n",
       "    </tr>\n",
       "    <tr>\n",
       "      <th>2950709</th>\n",
       "      <td>322896</td>\n",
       "      <td>157507</td>\n",
       "      <td>1.584963</td>\n",
       "    </tr>\n",
       "  </tbody>\n",
       "</table>\n",
       "<p>2950710 rows × 3 columns</p>\n",
       "</div>"
      ],
      "text/plain": [
       "         user_id  article_id  session_size\n",
       "0              0       68866      1.584963\n",
       "1              0       87205      1.584963\n",
       "2              0       87224      1.584963\n",
       "3              0       96755      1.584963\n",
       "4              0      157541      1.584963\n",
       "...          ...         ...           ...\n",
       "2950705   322894      168401      1.584963\n",
       "2950706   322895       63746      1.584963\n",
       "2950707   322895      289197      1.584963\n",
       "2950708   322896       30760      1.584963\n",
       "2950709   322896      157507      1.584963\n",
       "\n",
       "[2950710 rows x 3 columns]"
      ]
     },
     "execution_count": 21,
     "metadata": {},
     "output_type": "execute_result"
    }
   ],
   "source": [
    "print(\"Création des données de rating...\")\n",
    "rating_cat_log = filtered_data.groupby([\"user_id\", \"article_id\"])[\"session_size\"].sum()\\\n",
    "                    .apply(smooth_user_preference).reset_index()\n",
    "rating_cat_log"
   ]
  },
  {
   "cell_type": "markdown",
   "id": "1a30f894-f41a-4d02-8d73-b8d846da461d",
   "metadata": {},
   "source": [
    "Nous allons maintenant batir un profil pour chaque utilisateur (en se basant sur une des ressources fournie: https://www.kaggle.com/code/gspmoreira/recommender-systems-in-python-101/notebook)"
   ]
  },
  {
   "cell_type": "code",
   "execution_count": 22,
   "id": "9ed13df9-dae4-41b3-ad6c-b6408d871d35",
   "metadata": {},
   "outputs": [],
   "source": [
    "def get_item_profile(item_id):\n",
    "    idx = item_ids.index(item_id)\n",
    "    item_profile = pickle[idx:idx+1]\n",
    "    return item_profile\n",
    "\n",
    "def get_item_profiles(ids):\n",
    "    item_profiles_list = [get_item_profile(x) for x in ids]\n",
    "    item_profiles = np.vstack(item_profiles_list)\n",
    "    return item_profiles\n",
    "\n",
    "def build_users_profile(person_id, interactions_indexed_df):\n",
    "    interactions_person_df = interactions_indexed_df.loc[[person_id]] #double [[]] pour les index simple qui retourne une valeur et non un df\n",
    "    user_item_profiles = get_item_profiles(interactions_person_df['article_id'])\n",
    "    \n",
    "    user_item_strengths = np.array(interactions_person_df['session_size']).reshape(-1,1)\n",
    "    #Weighted average of item profiles by the interactions strength\n",
    "    user_item_strengths_weighted_avg = np.sum(np.multiply(user_item_profiles,user_item_strengths), axis=0) / np.sum(user_item_strengths)\n",
    "    user_item_strengths_weighted_avg = np.array(user_item_strengths_weighted_avg).reshape(1, -1)\n",
    "    user_profile_norm = sklearn.preprocessing.normalize(user_item_strengths_weighted_avg)\n",
    "    return user_profile_norm\n",
    "\n",
    "def build_users_profiles(): \n",
    "    interactions_indexed_df = interactions_train_df[interactions_train_df['article_id'] \\\n",
    "                                                   .isin(meta_df['article_id'])].set_index('user_id')\n",
    "    user_profiles = {}\n",
    "    for person_id in interactions_indexed_df.index.unique():\n",
    "        user_profiles[person_id] = build_users_profile(person_id, interactions_indexed_df)\n",
    "    return user_profiles"
   ]
  },
  {
   "cell_type": "code",
   "execution_count": 23,
   "id": "4a9b9e6d-c0fb-47f1-89c4-f88851ca77dd",
   "metadata": {},
   "outputs": [
    {
     "name": "stdout",
     "output_type": "stream",
     "text": [
      "Création des données d'entrainement et de tests...\n",
      "Création d'une liste d'article\n"
     ]
    }
   ],
   "source": [
    "print(\"Création des données d'entrainement et de tests...\")\n",
    "interactions_train_df, interactions_test_df = sklearn.model_selection.train_test_split(rating_cat_log,\n",
    "                                   stratify=rating_cat_log['user_id'], \n",
    "                                   test_size=0.25,\n",
    "                                   random_state=0)\n",
    "\n",
    "print(\"Création d'une liste d'article\")\n",
    "item_ids = meta_df['article_id'].tolist()"
   ]
  },
  {
   "cell_type": "code",
   "execution_count": 24,
   "id": "4cde17f0-3fe6-47ee-8626-bcffe79501a5",
   "metadata": {},
   "outputs": [],
   "source": [
    "def recommend_Article(user_id, top):\n",
    "    interactions_indexed_df = interactions_train_df[interactions_train_df['article_id'] \\\n",
    "                                                   .isin(meta_df['article_id'])].set_index('user_id')\n",
    "    \n",
    "    user_profiles = build_users_profile(user_id, interactions_indexed_df)\n",
    "    score = []\n",
    "    for i in range(0, len(pickle)):\n",
    "        cos_sim = np.dot(user_profiles, pickle[i])/(np.linalg.norm(user_profiles)*np.linalg.norm(pickle[i]))\n",
    "        score.append(cos_sim)\n",
    "    \n",
    "    _best_scores = find_top_n_indices(score, top)\n",
    "    print(\"Recommending \" + str(top) + \" articles to user \" + str(user_id) + \"...\")   \n",
    "    print(\"-------\")\n",
    "    \n",
    "    for best in _best_scores:\n",
    "        print(\"Recommended: \" + str(best))"
   ]
  },
  {
   "cell_type": "code",
   "execution_count": 25,
   "id": "9e1d94e2-4c59-4c3c-a16e-4e9015d41786",
   "metadata": {},
   "outputs": [
    {
     "name": "stdout",
     "output_type": "stream",
     "text": [
      "Recommending 5 articles to user 1000...\n",
      "-------\n",
      "Recommended: 350669\n",
      "Recommended: 332170\n",
      "Recommended: 346141\n",
      "Recommended: 332406\n",
      "Recommended: 331742\n",
      "CPU times: user 3.38 s, sys: 43.3 ms, total: 3.42 s\n",
      "Wall time: 3.42 s\n"
     ]
    }
   ],
   "source": [
    "%%time\n",
    "recommend_Article(1000, 5)"
   ]
  },
  {
   "cell_type": "markdown",
   "id": "f5bd6626-2e37-418c-a013-12ea42b4f42b",
   "metadata": {},
   "source": [
    "## Avantages et inconvénients\n",
    "\n",
    "Avantages:\n",
    "- Il n'y a pas besoin d'avoir d'information supplémentaire des autres utilisateurs. Seules les informations fournies par l'utilisateur suffisent pour établir un profil.\n",
    "\n",
    "- Il n'y a pas de biais qui serait dû aux préférences des autres utilisateurs seul le contenur des items est pris en compte\n",
    "\n",
    "- Il n'y a pas pas de problème pour la recommendation de nouveux items tant que leur contenu est bien identifié par l'algorithme.\n",
    "\n",
    "Inconvénients:\n",
    "- Si peu d'information sont disponibles sur le contenu, alors les recommendations seront également moins précises\n",
    "\n",
    "- Un système basé sur le contenu fournira des recommendations uniformes et ne proposera peu ou pas de contenu innovant à l'utilisateur."
   ]
  },
  {
   "cell_type": "code",
   "execution_count": null,
   "id": "b831ed33-f2dc-469c-8b18-5bcef9555ebb",
   "metadata": {},
   "outputs": [],
   "source": []
  }
 ],
 "metadata": {
  "kernelspec": {
   "display_name": "Python 3 (ipykernel)",
   "language": "python",
   "name": "python3"
  },
  "language_info": {
   "codemirror_mode": {
    "name": "ipython",
    "version": 3
   },
   "file_extension": ".py",
   "mimetype": "text/x-python",
   "name": "python",
   "nbconvert_exporter": "python",
   "pygments_lexer": "ipython3",
   "version": "3.10.6"
  }
 },
 "nbformat": 4,
 "nbformat_minor": 5
}
